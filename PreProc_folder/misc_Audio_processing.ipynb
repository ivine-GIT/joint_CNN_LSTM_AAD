{
 "cells": [
  {
   "cell_type": "code",
   "execution_count": null,
   "metadata": {},
   "outputs": [],
   "source": [
    "from __future__ import print_function\n",
    "import glob, os\n",
    "import scipy.io as sio\n",
    "from scipy.io import wavfile\n",
    "import scipy\n",
    "import numpy as np\n",
    "import pandas as pd\n",
    "from scipy import stats, signal\n",
    "from numpy.random import seed\n",
    "from scipy.signal import butter, lfilter, freqz, hilbert\n",
    "import matplotlib.pyplot as plt\n",
    "import IPython.display as ipd\n",
    "import csv\n",
    "import librosa\n",
    "seed(1)"
   ]
  },
  {
   "cell_type": "code",
   "execution_count": null,
   "metadata": {},
   "outputs": [],
   "source": [
    "my_path = os.getcwd()\n",
    "print(my_path)\n"
   ]
  },
  {
   "cell_type": "code",
   "execution_count": null,
   "metadata": {},
   "outputs": [],
   "source": [
    "fs = 16000\n",
    "fs_final = 8000"
   ]
  },
  {
   "cell_type": "code",
   "execution_count": null,
   "metadata": {},
   "outputs": [],
   "source": [
    "def List_files(directory,extension):\n",
    "    os.chdir(directory)\n",
    "    files=[]\n",
    "    for file in glob.glob(\"*.{}\".format(extension)):\n",
    "        files.append(file)\n",
    "\n",
    "    os.chdir(my_path)\n",
    "    print('pwd', os.getcwd())\n",
    "    return files"
   ]
  },
  {
   "cell_type": "code",
   "execution_count": null,
   "metadata": {},
   "outputs": [],
   "source": [
    "def Chebyshev_lowpass_filter(data, fstop, fs):\n",
    "    N = 10\n",
    "    Rs = 60\n",
    "    Wn = fstop/(fs/2);\n",
    "\n",
    "    sos = signal.cheby2(N, Rs, Wn, 'low', analog = False, output='sos')\n",
    "    filtered = signal.sosfilt(sos, data, axis=0)    \n",
    "\n",
    "    return filtered"
   ]
  },
  {
   "cell_type": "code",
   "execution_count": null,
   "metadata": {},
   "outputs": [],
   "source": [
    "N = 10\n",
    "Rs = 60\n",
    "fstop = fs_final/2\n",
    "Wn = fstop/fs;\n",
    "\n",
    "sos = signal.cheby2(N, Rs, Wn, 'low', analog = False, output='sos')\n",
    "w, h = signal.sosfreqz(sos, worN=1500)\n",
    "plt.subplot(2, 1, 1)\n",
    "db = 20*np.log10(np.maximum(np.abs(h), 1e-5))\n",
    "plt.plot(w/np.pi, db)\n",
    "plt.ylim(-75, 5)\n",
    "plt.grid(True)\n",
    "plt.yticks([0, -20, -40, -60])\n",
    "plt.ylabel('Gain [dB]')\n",
    "plt.title('Frequency Response')\n",
    "plt.subplot(2, 1, 2)\n",
    "plt.plot(w/np.pi, np.angle(h))\n",
    "plt.grid(True)\n",
    "plt.yticks([-np.pi, -0.5*np.pi, 0, 0.5*np.pi, np.pi],\n",
    "           [r'$-\\pi$', r'$-\\pi/2$', '0', r'$\\pi/2$', r'$\\pi$'])\n",
    "plt.ylabel('Phase [rad]')\n",
    "plt.xlabel('Normalized frequency (1.0 = Nyquist)')\n",
    "plt.show()"
   ]
  },
  {
   "cell_type": "code",
   "execution_count": null,
   "metadata": {},
   "outputs": [],
   "source": [
    "def Chebyshev_bandpass_filter(data, tmp_fs):\n",
    "    N = 9\n",
    "    Rs = 50\n",
    "    fstop1 = 1\n",
    "    fstop2 = 9\n",
    "    Wn = np.array([fstop1, fstop2])/(tmp_fs/2)\n",
    "\n",
    "    sos = signal.cheby2(N, Rs, Wn, 'bandpass', analog = False, output='sos')\n",
    "    filtered = signal.sosfilt(sos, data, axis=0)\n",
    "    return filtered"
   ]
  },
  {
   "cell_type": "code",
   "execution_count": null,
   "metadata": {},
   "outputs": [],
   "source": [
    "# Bandpass filtering between 1 kHz and 4 kHz @ 16 kHz sampling rate\n",
    "\n",
    "N = 9\n",
    "Rs = 50\n",
    "fstop1 = 1000\n",
    "fstop2 = 4000\n",
    "Wn = np.array([fstop1, fstop2])/fs\n",
    "sos = signal.cheby2(N, Rs, Wn, 'bandpass', analog = False, output='sos')\n",
    "\n",
    "w, h = signal.sosfreqz(sos, worN=1500)\n",
    "plt.subplot(2, 1, 1)\n",
    "db = 20*np.log10(np.maximum(np.abs(h), 1e-5))\n",
    "plt.plot(w/np.pi, db)\n",
    "plt.ylim(-75, 5)\n",
    "plt.grid(True)\n",
    "plt.yticks([0, -20, -40, -60])\n",
    "plt.ylabel('Gain [dB]')\n",
    "plt.title('Frequency Response')\n",
    "plt.subplot(2, 1, 2)\n",
    "plt.plot(w/np.pi, np.angle(h))\n",
    "plt.grid(True)\n",
    "plt.yticks([-np.pi, -0.5*np.pi, 0, 0.5*np.pi, np.pi],\n",
    "           [r'$-\\pi$', r'$-\\pi/2$', '0', r'$\\pi/2$', r'$\\pi$'])\n",
    "plt.ylabel('Phase [rad]')\n",
    "plt.xlabel('Normalized frequency (1.0 = Nyquist)')\n",
    "plt.show()"
   ]
  },
  {
   "cell_type": "code",
   "execution_count": null,
   "metadata": {},
   "outputs": [],
   "source": [
    "audio_path = my_path + '\\\\'\n",
    "Name_raw_Audio = List_files(audio_path,'wav')\n",
    "print(Name_raw_Audio)\n",
    "\n",
    "for idx in np.arange(0, np.shape(Name_raw_Audio)[0]):\n",
    "    \n",
    "    audio = wavfile.read(audio_path + Name_raw_Audio[idx])\n",
    "    fs_orig = audio[0]\n",
    "    speech = audio[1]\n",
    "\n",
    "    # added on 25.10\n",
    "    speech = speech[:, 0:2]/2**15\n",
    "\n",
    "    spkr1 = speech[:,0]\n",
    "    spkr2 = speech[:,1]\n",
    "    print('Get spkr2 lowpassed, shape:',np.shape(spkr2))\n",
    "    ipd.Audio(spkr2, rate=fs)\n",
    "    \n",
    "    spkr1_lowpass = Chebyshev_lowpass_filter(speech[:,0], fs_final/2, fs)    \n",
    "    spkr2_lowpass = Chebyshev_lowpass_filter(speech[:,1], fs_final/2, fs)    \n",
    "    print('Get spkr2 lowpassed, shape:',np.shape(spkr2_lowpass))\n",
    "    ipd.Audio(spkr2_lowpass, rate=fs)\n",
    "    \n",
    "    spkr1_resampled = librosa.resample(spkr1_lowpass, fs, fs_final)\n",
    "    spkr2_resampled = librosa.resample(spkr2_lowpass, fs, fs_final)  \n",
    "    print('Get spkr2 resampled, shape:',np.shape(spkr2_resampled))\n",
    "    ipd.Audio(spkr2_resampled, rate=fs_final)"
   ]
  },
  {
   "cell_type": "code",
   "execution_count": null,
   "metadata": {},
   "outputs": [],
   "source": [
    "print(\"original at fs=16 kHz\")\n",
    "ipd.Audio(spkr2, rate=fs)  "
   ]
  },
  {
   "cell_type": "code",
   "execution_count": null,
   "metadata": {},
   "outputs": [],
   "source": [
    "print(\"Low pass filtered at 4 kHz and fs=16 kHz\")\n",
    "ipd.Audio(spkr2_lowpass, rate=fs)"
   ]
  },
  {
   "cell_type": "code",
   "execution_count": null,
   "metadata": {},
   "outputs": [],
   "source": [
    "print(\"Resampled at fs=8 kHz\")\n",
    "ipd.Audio(spkr2_resampled, rate=fs_final)"
   ]
  }
 ],
 "metadata": {
  "kernelspec": {
   "display_name": "Python 3",
   "language": "python",
   "name": "python3"
  },
  "language_info": {
   "codemirror_mode": {
    "name": "ipython",
    "version": 3
   },
   "file_extension": ".py",
   "mimetype": "text/x-python",
   "name": "python",
   "nbconvert_exporter": "python",
   "pygments_lexer": "ipython3",
   "version": "3.7.7"
  }
 },
 "nbformat": 4,
 "nbformat_minor": 2
}
